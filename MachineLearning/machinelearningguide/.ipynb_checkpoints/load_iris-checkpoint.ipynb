{
 "cells": [
  {
   "cell_type": "code",
   "execution_count": 14,
   "metadata": {},
   "outputs": [
    {
     "name": "stdout",
     "output_type": "stream",
     "text": [
      "iris target 값: [0 0 0 0 0 0 0 0 0 0 0 0 0 0 0 0 0 0 0 0 0 0 0 0 0 0 0 0 0 0 0 0 0 0 0 0 0\n",
      " 0 0 0 0 0 0 0 0 0 0 0 0 0 1 1 1 1 1 1 1 1 1 1 1 1 1 1 1 1 1 1 1 1 1 1 1 1\n",
      " 1 1 1 1 1 1 1 1 1 1 1 1 1 1 1 1 1 1 1 1 1 1 1 1 1 1 2 2 2 2 2 2 2 2 2 2 2\n",
      " 2 2 2 2 2 2 2 2 2 2 2 2 2 2 2 2 2 2 2 2 2 2 2 2 2 2 2 2 2 2 2 2 2 2 2 2 2\n",
      " 2 2]\n",
      "iris target 명: ['setosa' 'versicolor' 'virginica']\n",
      "예측 정확도: 0.9333\n"
     ]
    }
   ],
   "source": [
    "from sklearn.datasets import load_iris#사이킷런 자체 모듈로 load_iris 로 붓꽃 데이터 로딩\n",
    "from sklearn.tree import DecisionTreeClassifier #트리 기반 모듈의 모임에서 DecisionTreeClassifier 알고리즘 사용\n",
    "from sklearn.model_selection import train_test_split #데이터 분리를 위해 train_test_split() 함수 사용\n",
    "\n",
    "import pandas as pd\n",
    "\n",
    "#붓꽃 데이터 세트 로딩\n",
    "iris = load_iris()\n",
    "\n",
    "#iris.data 는 Iris 데이터 세트에서 (feature) 만으로 된 데이터를 numpy 로 가지고 있다\n",
    "iris_data = iris.data\n",
    "\n",
    "#iris.target 은 붓꽃 데이터 세트에서 레이블(결정 값) 데이터를 numpy 로 가지고 있다\n",
    "iris_label = iris.target\n",
    "print('iris target 값:', iris_label)\n",
    "print('iris target 명:', iris.target_names) #품종들의 이름을 불러옴\n",
    "\n",
    "#붓꽃 데이터 세트를 자세히 보기 위해 DataFrame으로 변환\n",
    "iris_df = pd.DataFrame(data=iris_data, columns=iris.feature_names) \n",
    "iris_df['label'] = iris.target\n",
    "iris_df.head(3)\n",
    "\n",
    "#학습용 데이터와 테스트용 데이터 분리\n",
    "X_train, X_test, y_train, y_test = train_test_split(iris_data, iris_label,\n",
    "                                                   test_size=0.2, random_state=11)\n",
    "\n",
    "#DecisionTreeClassifier 객체 생성 (머신러닝 분류 알고리즘 사용)\n",
    "dt_clf = DecisionTreeClassifier(random_state=11)\n",
    "\n",
    "#학습 수행 (예측은 학습데이터가 아닌 다른 데이터를 이용 -> 테스트 데이터 사용)\n",
    "dt_clf.fit(X_train, y_train)\n",
    "\n",
    "#학습이 완료된 DecisionTreeClassifier 객체에서 테스트데이터 세트로 예측 수행\n",
    "pred = dt_clf.predict(X_test)\n",
    "\n",
    "from sklearn.metrics import accuracy_score\n",
    "print('예측 정확도: {0:.4f}'.format(accuracy_score(y_test, pred))) #변수로 실제레이블데이터세트, 예측 레이블데이터세트 입력 "
   ]
  },
  {
   "cell_type": "code",
   "execution_count": null,
   "metadata": {},
   "outputs": [],
   "source": []
  }
 ],
 "metadata": {
  "kernelspec": {
   "display_name": "Python 3",
   "language": "python",
   "name": "python3"
  },
  "language_info": {
   "codemirror_mode": {
    "name": "ipython",
    "version": 3
   },
   "file_extension": ".py",
   "mimetype": "text/x-python",
   "name": "python",
   "nbconvert_exporter": "python",
   "pygments_lexer": "ipython3",
   "version": "3.8.3"
  }
 },
 "nbformat": 4,
 "nbformat_minor": 4
}
